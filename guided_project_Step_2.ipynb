{
 "cells": [
  {
   "cell_type": "markdown",
   "id": "e8968f6a",
   "metadata": {},
   "source": [
    "# Test single file read using Spark"
   ]
  },
  {
   "cell_type": "code",
   "execution_count": 1,
   "id": "d05b096b",
   "metadata": {},
   "outputs": [
    {
     "data": {
      "application/vnd.jupyter.widget-view+json": {
       "model_id": "290999ea206d429dafde4a58ed83a7ac",
       "version_major": 2,
       "version_minor": 0
      },
      "text/plain": [
       "VBox()"
      ]
     },
     "metadata": {},
     "output_type": "display_data"
    },
    {
     "name": "stdout",
     "output_type": "stream",
     "text": [
      "Starting Spark application\n"
     ]
    },
    {
     "data": {
      "text/html": [
       "<table>\n",
       "<tr><th>ID</th><th>YARN Application ID</th><th>Kind</th><th>State</th><th>Spark UI</th><th>Driver log</th><th>Current session?</th></tr><tr><td>0</td><td>application_1625701922421_0001</td><td>pyspark</td><td>idle</td><td><a target=\"_blank\" href=\"http://ip-172-31-12-195.ec2.internal:20888/proxy/application_1625701922421_0001/\" class=\"emr-proxy-link\" emr-resource=\"j-28A6SBET5871P\n",
       "\" application-id=\"application_1625701922421_0001\">Link</a></td><td><a target=\"_blank\" href=\"http://ip-172-31-3-200.ec2.internal:8042/node/containerlogs/container_1625701922421_0001_01_000001/livy\" >Link</a></td><td>✔</td></tr></table>"
      ],
      "text/plain": [
       "<IPython.core.display.HTML object>"
      ]
     },
     "metadata": {},
     "output_type": "display_data"
    },
    {
     "data": {
      "application/vnd.jupyter.widget-view+json": {
       "model_id": "",
       "version_major": 2,
       "version_minor": 0
      },
      "text/plain": [
       "FloatProgress(value=0.0, bar_style='info', description='Progress:', layout=Layout(height='25px', width='50%'),…"
      ]
     },
     "metadata": {},
     "output_type": "display_data"
    },
    {
     "name": "stdout",
     "output_type": "stream",
     "text": [
      "SparkSession available as 'spark'.\n"
     ]
    },
    {
     "data": {
      "application/vnd.jupyter.widget-view+json": {
       "model_id": "",
       "version_major": 2,
       "version_minor": 0
      },
      "text/plain": [
       "FloatProgress(value=0.0, bar_style='info', description='Progress:', layout=Layout(height='25px', width='50%'),…"
      ]
     },
     "metadata": {},
     "output_type": "display_data"
    },
    {
     "name": "stdout",
     "output_type": "stream",
     "text": [
      "Collecting boto3\n",
      "  Downloading https://files.pythonhosted.org/packages/ab/8a/bfe42e25206da14a311a76798248def9d0f5815bb5651fa4090af7fc4683/boto3-1.17.107-py2.py3-none-any.whl (131kB)\n",
      "Collecting s3transfer<0.5.0,>=0.4.0 (from boto3)\n",
      "  Downloading https://files.pythonhosted.org/packages/63/d0/693477c688348654ddc21dcdce0817653a294aa43f41771084c25e7ff9c7/s3transfer-0.4.2-py2.py3-none-any.whl (79kB)\n",
      "Collecting botocore<1.21.0,>=1.20.107 (from boto3)\n",
      "  Downloading https://files.pythonhosted.org/packages/e4/85/b2e0366a63f4f0aedd4cca8b7bf8b2d6e6adc0f3d72435aa5174d0ec80e2/botocore-1.20.107-py2.py3-none-any.whl (7.7MB)\n",
      "Requirement already satisfied: jmespath<1.0.0,>=0.7.1 in /usr/local/lib/python3.7/site-packages (from boto3)\n",
      "Collecting urllib3<1.27,>=1.25.4 (from botocore<1.21.0,>=1.20.107->boto3)\n",
      "  Downloading https://files.pythonhosted.org/packages/5f/64/43575537846896abac0b15c3e5ac678d787a4021e906703f1766bfb8ea11/urllib3-1.26.6-py2.py3-none-any.whl (138kB)\n",
      "Collecting python-dateutil<3.0.0,>=2.1 (from botocore<1.21.0,>=1.20.107->boto3)\n",
      "  Downloading https://files.pythonhosted.org/packages/d4/70/d60450c3dd48ef87586924207ae8907090de0b306af2bce5d134d78615cb/python_dateutil-2.8.1-py2.py3-none-any.whl (227kB)\n",
      "Requirement already satisfied: six>=1.5 in /usr/local/lib/python3.7/site-packages (from python-dateutil<3.0.0,>=2.1->botocore<1.21.0,>=1.20.107->boto3)\n",
      "Installing collected packages: urllib3, python-dateutil, botocore, s3transfer, boto3\n",
      "Successfully installed boto3-1.17.107 botocore-1.20.107 python-dateutil-2.8.1 s3transfer-0.4.2 urllib3-1.26.6"
     ]
    }
   ],
   "source": [
    "sc.install_pypi_package(\"boto3\")"
   ]
  },
  {
   "cell_type": "code",
   "execution_count": 3,
   "id": "75eb1f0c",
   "metadata": {},
   "outputs": [
    {
     "data": {
      "application/vnd.jupyter.widget-view+json": {
       "model_id": "5796a1fb929d4f24a9dfcc37c2a2d300",
       "version_major": 2,
       "version_minor": 0
      },
      "text/plain": [
       "VBox()"
      ]
     },
     "metadata": {},
     "output_type": "display_data"
    },
    {
     "data": {
      "application/vnd.jupyter.widget-view+json": {
       "model_id": "",
       "version_major": 2,
       "version_minor": 0
      },
      "text/plain": [
       "FloatProgress(value=0.0, bar_style='info', description='Progress:', layout=Layout(height='25px', width='50%'),…"
      ]
     },
     "metadata": {},
     "output_type": "display_data"
    }
   ],
   "source": [
    "# import json\n",
    "from pyspark.sql import SparkSession\n",
    "from pyspark.sql.types import StructType, StructField, StringType, IntegerType, DecimalType\n",
    "import decimal\n",
    "import logging\n",
    "# import boto3"
   ]
  },
  {
   "cell_type": "code",
   "execution_count": 16,
   "id": "e268bf94",
   "metadata": {},
   "outputs": [
    {
     "data": {
      "application/vnd.jupyter.widget-view+json": {
       "model_id": "1beedc4c63464324b78b43d6a7471e88",
       "version_major": 2,
       "version_minor": 0
      },
      "text/plain": [
       "VBox()"
      ]
     },
     "metadata": {},
     "output_type": "display_data"
    },
    {
     "data": {
      "application/vnd.jupyter.widget-view+json": {
       "model_id": "",
       "version_major": 2,
       "version_minor": 0
      },
      "text/plain": [
       "FloatProgress(value=0.0, bar_style='info', description='Progress:', layout=Layout(height='25px', width='50%'),…"
      ]
     },
     "metadata": {},
     "output_type": "display_data"
    }
   ],
   "source": [
    "# Functions\n",
    "\n",
    "\n",
    "def parse_csv(line):\n",
    "    \"\"\"\n",
    "   This function will be applied to each line read from S3 bucket's \".txt\" file.\n",
    "\n",
    "   Recall that you are working w/ comma-separated values. We want to return event object\n",
    "\n",
    "   :param line: A line of \".txt\" file in CSV format.\n",
    "   :return: Common event object.\n",
    "   \"\"\"\n",
    "    try:\n",
    "        record_type_pos = 2\n",
    "        record = line.split(\",\")\n",
    "        # Filter by record_type (Trade or Quote):\n",
    "        if record[record_type_pos] == \"T\":\n",
    "            # Create event object by using values from record object and performing data type conversion\n",
    "            event = [record[0], record[1], record[2], record[3], record[4], int(record[5]), record[6],\n",
    "                     decimal.Decimal(record[7]), int(record[8]), None, None,\n",
    "                     \"T\"]\n",
    "                     # decimal.Decimal(record[9]),\n",
    "                     # int(record[10]), \"T\"]  # Exists 11 values --> Should be 9.\n",
    "            return event\n",
    "        elif record[record_type_pos] == \"Q\":\n",
    "            event = [record[0], record[1], record[2], record[3], record[4], int(record[5]), record[6],\n",
    "                     decimal.Decimal(record[7]), int(record[8]), decimal.Decimal(record[9]),\n",
    "                     int(record[10]), \"Q\"]\n",
    "            return event\n",
    "    except Exception as e:\n",
    "        # Return exception as bad record and convert values to None preceding record_type == \"B\"\n",
    "        event = [None, None, None, None, None, None, None, None, None, None, None, \"B\"]\n",
    "        logging.error(\"Bad record\", e)\n",
    "        # print(f\"Bad record: {e}\")\n",
    "        return event\n",
    "\n",
    "\n",
    "def parse_json(line):\n",
    "    \"\"\"\n",
    "    This function will parse through each line in the JSON formatted \".txt\" file stored in S3.\n",
    "\n",
    "    :param line: Each line of \".txt\" file in JSON format.\n",
    "    :return: common_event() object\n",
    "    \"\"\"\n",
    "    try:\n",
    "        record = json.loads(line)\n",
    "        record_type = record[\"event_type\"]\n",
    "        # Parse records for each type and convert data type as necessary\n",
    "        if record_type == \"T\":\n",
    "            # Create event object based and\n",
    "            event = [record[\"trade_dt\"], record[\"file_tm\"], record[\"event_type\"], record[\"symbol\"],\n",
    "                     record[\"event_tm\"], int(record[\"event_seq_nb\"]), record[\"exchange\"],\n",
    "                     decimal.Decimal(record[\"bid_pr\"]), int(record[\"bid_size\"]), None, None, # Try place None values\n",
    "                     \"T\"]\n",
    "                     # decimal.Decimal(record[\"ask_pr\"]),\n",
    "                     # int(record[\"ask_size\"]), \"T\"]\n",
    "            return event\n",
    "        elif record_type == \"Q\":\n",
    "            event = [record[\"trade_dt\"], record[\"file_tm\"], record[\"event_type\"], record[\"symbol\"],\n",
    "                     record[\"event_tm\"], int(record[\"event_seq_nb\"]), record[\"exchange\"],\n",
    "                     decimal.Decimal(record[\"bid_pr\"]), int(record[\"bid_size\"]), \n",
    "                     decimal.Decimal(record[\"ask_pr\"]),\n",
    "                     int(record[\"ask_size\"]), \"Q\"]\n",
    "            return event\n",
    "    except Exception as e:\n",
    "        event = [None, None, None, None, None, None, None, None, None, None, None, \"B\"]\n",
    "        logging.error(\"Bad record\", e)\n",
    "        # print(f\"Bad record: {e}\")\n",
    "        return event"
   ]
  },
  {
   "cell_type": "code",
   "execution_count": 5,
   "id": "03a887e7",
   "metadata": {},
   "outputs": [
    {
     "data": {
      "application/vnd.jupyter.widget-view+json": {
       "model_id": "6845cccf5f0045f4973984b2c4c77d14",
       "version_major": 2,
       "version_minor": 0
      },
      "text/plain": [
       "VBox()"
      ]
     },
     "metadata": {},
     "output_type": "display_data"
    },
    {
     "data": {
      "application/vnd.jupyter.widget-view+json": {
       "model_id": "",
       "version_major": 2,
       "version_minor": 0
      },
      "text/plain": [
       "FloatProgress(value=0.0, bar_style='info', description='Progress:', layout=Layout(height='25px', width='50%'),…"
      ]
     },
     "metadata": {},
     "output_type": "display_data"
    }
   ],
   "source": [
    "# Define common schema -> Use for creating Spark dataframe\n",
    "\n",
    "common_event_schema = StructType([\n",
    "    StructField(\"trade_dt\", StringType(), True),\n",
    "    StructField(\"arrival_tm\", StringType(), True),\n",
    "    StructField(\"rec_type\", StringType(), True),\n",
    "    StructField(\"symbol\", StringType(), True),\n",
    "    StructField(\"event_tm\", StringType(), True),\n",
    "    StructField(\"event_seq_nb\", IntegerType(), True),\n",
    "    StructField(\"trade_pr\", StringType(), True),\n",
    "    StructField(\"bid_pr\", DecimalType(), True),\n",
    "    StructField(\"bid_size\", IntegerType(), True),\n",
    "    StructField(\"ask_pr\", DecimalType(), True),\n",
    "    StructField(\"ask_size\", IntegerType(), True),\n",
    "    StructField(\"partition\", StringType(), True)  # THIS COLUMN IS USED FOR PARTITIONING ACROSS FILE SYSTEM\n",
    "])  # Think: Why is this different from schema present in description?"
   ]
  },
  {
   "cell_type": "code",
   "execution_count": 6,
   "id": "0e289ef3",
   "metadata": {},
   "outputs": [
    {
     "data": {
      "application/vnd.jupyter.widget-view+json": {
       "model_id": "0c9c5ec8321246ada5295ae4b8b52008",
       "version_major": 2,
       "version_minor": 0
      },
      "text/plain": [
       "VBox()"
      ]
     },
     "metadata": {},
     "output_type": "display_data"
    },
    {
     "data": {
      "application/vnd.jupyter.widget-view+json": {
       "model_id": "",
       "version_major": 2,
       "version_minor": 0
      },
      "text/plain": [
       "FloatProgress(value=0.0, bar_style='info', description='Progress:', layout=Layout(height='25px', width='50%'),…"
      ]
     },
     "metadata": {},
     "output_type": "display_data"
    }
   ],
   "source": [
    "# Use the CSV Parser in Spark Transformation to Process the Source Data\n",
    "spark = SparkSession.builder.master('local').appName('app').getOrCreate()  # Main entry point to Spark cluster\n",
    "\n",
    "# # Create s3 resource object and use spark.conf.set() in order to work with S3 bucket.\n",
    "# s3_resource = boto3.resource('s3')\n",
    "\n",
    "spark.conf.set(\"fs.s3.endpoint\", \"s3-sa-east-1.amazonaws.com\")\n",
    "\n",
    "# Start Spark context manager --> used for creating RDD.\n",
    "sc = spark.sparkContext  # Entry point to Spark application w/ help of Spark cluster.\n",
    "\n",
    "\n",
    "# Desired output S3 path\n",
    "# s3_output_path = \"s3://guidedcapstonebucket2/e-KLOB2DYT8G9BGL5F8PJ9LXKJ/Parquet_Path\""
   ]
  },
  {
   "cell_type": "code",
   "execution_count": 7,
   "id": "66934881",
   "metadata": {},
   "outputs": [
    {
     "data": {
      "application/vnd.jupyter.widget-view+json": {
       "model_id": "c76bb32037b941009c76516ba2a9ac0c",
       "version_major": 2,
       "version_minor": 0
      },
      "text/plain": [
       "VBox()"
      ]
     },
     "metadata": {},
     "output_type": "display_data"
    },
    {
     "data": {
      "application/vnd.jupyter.widget-view+json": {
       "model_id": "",
       "version_major": 2,
       "version_minor": 0
      },
      "text/plain": [
       "FloatProgress(value=0.0, bar_style='info', description='Progress:', layout=Layout(height='25px', width='50%'),…"
      ]
     },
     "metadata": {},
     "output_type": "display_data"
    }
   ],
   "source": [
    "# Create separate ingested CSV file paths\n",
    "ingested_csv_path = \"s3://guidedcapstonebucket2/e-KLOB2DYT8G9BGL5F8PJ9LXKJ/Ingested_CSV_Files/\"\n",
    "ingested_json_path = \"s3://guidedcapstonebucket2/e-KLOB2DYT8G9BGL5F8PJ9LXKJ/Ingested_JSON_Files/\""
   ]
  },
  {
   "cell_type": "code",
   "execution_count": 22,
   "id": "0de9d7c2",
   "metadata": {},
   "outputs": [
    {
     "data": {
      "application/vnd.jupyter.widget-view+json": {
       "model_id": "9694583b38b64a3db116e1aee9233e4c",
       "version_major": 2,
       "version_minor": 0
      },
      "text/plain": [
       "VBox()"
      ]
     },
     "metadata": {},
     "output_type": "display_data"
    },
    {
     "data": {
      "application/vnd.jupyter.widget-view+json": {
       "model_id": "",
       "version_major": 2,
       "version_minor": 0
      },
      "text/plain": [
       "FloatProgress(value=0.0, bar_style='info', description='Progress:', layout=Layout(height='25px', width='50%'),…"
      ]
     },
     "metadata": {},
     "output_type": "display_data"
    }
   ],
   "source": [
    "# Create Subfolder paths --> This will be used for aggregation later on.\n",
    "ingest_csv_subfolder_1 = \"s3://guidedcapstonebucket2/e-KLOB2DYT8G9BGL5F8PJ9LXKJ/Ingested_CSV_Files/Ingest_CSV_Subfolder_1\"\n",
    "ingest_csv_subfolder_2 = \"s3://guidedcapstonebucket2/e-KLOB2DYT8G9BGL5F8PJ9LXKJ/Ingested_CSV_Files/Ingest_CSV_Subfolder_2\"\n",
    "ingest_json_subfolder_1 = \"s3://guidedcapstonebucket2/e-KLOB2DYT8G9BGL5F8PJ9LXKJ/Ingested_JSON_Files/Ingest_JSON_Subfolder_1\"\n",
    "ingest_json_subfolder_2 = \"s3://guidedcapstonebucket2/e-KLOB2DYT8G9BGL5F8PJ9LXKJ/Ingested_JSON_Files/Ingest_JSON_Subfolder_2\""
   ]
  },
  {
   "cell_type": "code",
   "execution_count": 17,
   "id": "d3406c96",
   "metadata": {},
   "outputs": [
    {
     "data": {
      "application/vnd.jupyter.widget-view+json": {
       "model_id": "88e3bf208f3541e2acc7987cb0fa6f22",
       "version_major": 2,
       "version_minor": 0
      },
      "text/plain": [
       "VBox()"
      ]
     },
     "metadata": {},
     "output_type": "display_data"
    },
    {
     "data": {
      "application/vnd.jupyter.widget-view+json": {
       "model_id": "",
       "version_major": 2,
       "version_minor": 0
      },
      "text/plain": [
       "FloatProgress(value=0.0, bar_style='info', description='Progress:', layout=Layout(height='25px', width='50%'),…"
      ]
     },
     "metadata": {},
     "output_type": "display_data"
    }
   ],
   "source": [
    "# Test Read -> Note that GCFiles is our source file path\n",
    "\n",
    "raw_csv1 = sc.textFile(\n",
    "    \"s3://guidedcapstonebucket2/e-KLOB2DYT8G9BGL5F8PJ9LXKJ/GCFiles/GC_CSV_Files/part-00000-214fff0a-f408-466c-bb15-095cd8b648dc-c000.txt\")"
   ]
  },
  {
   "cell_type": "code",
   "execution_count": 18,
   "id": "3941d7ce",
   "metadata": {},
   "outputs": [
    {
     "data": {
      "application/vnd.jupyter.widget-view+json": {
       "model_id": "5943199b7f2e4b83ad92045f9ac7bf29",
       "version_major": 2,
       "version_minor": 0
      },
      "text/plain": [
       "VBox()"
      ]
     },
     "metadata": {},
     "output_type": "display_data"
    },
    {
     "data": {
      "application/vnd.jupyter.widget-view+json": {
       "model_id": "",
       "version_major": 2,
       "version_minor": 0
      },
      "text/plain": [
       "FloatProgress(value=0.0, bar_style='info', description='Progress:', layout=Layout(height='25px', width='50%'),…"
      ]
     },
     "metadata": {},
     "output_type": "display_data"
    }
   ],
   "source": [
    "parsed_csv1 = raw_csv1.map(lambda line: parse_csv(line))"
   ]
  },
  {
   "cell_type": "code",
   "execution_count": 19,
   "id": "2ff4c2ba",
   "metadata": {},
   "outputs": [
    {
     "data": {
      "application/vnd.jupyter.widget-view+json": {
       "model_id": "cbeee8f2c9164ce49699796fa791ae88",
       "version_major": 2,
       "version_minor": 0
      },
      "text/plain": [
       "VBox()"
      ]
     },
     "metadata": {},
     "output_type": "display_data"
    },
    {
     "data": {
      "application/vnd.jupyter.widget-view+json": {
       "model_id": "",
       "version_major": 2,
       "version_minor": 0
      },
      "text/plain": [
       "FloatProgress(value=0.0, bar_style='info', description='Progress:', layout=Layout(height='25px', width='50%'),…"
      ]
     },
     "metadata": {},
     "output_type": "display_data"
    },
    {
     "name": "stdout",
     "output_type": "stream",
     "text": [
      "PythonRDD[26] at RDD at PythonRDD.scala:53"
     ]
    }
   ],
   "source": [
    "parsed_csv1"
   ]
  },
  {
   "cell_type": "code",
   "execution_count": 10,
   "id": "ca2f4fe4",
   "metadata": {},
   "outputs": [
    {
     "data": {
      "application/vnd.jupyter.widget-view+json": {
       "model_id": "aa83163b96524f3e8cb044b39e057214",
       "version_major": 2,
       "version_minor": 0
      },
      "text/plain": [
       "VBox()"
      ]
     },
     "metadata": {},
     "output_type": "display_data"
    },
    {
     "data": {
      "application/vnd.jupyter.widget-view+json": {
       "model_id": "",
       "version_major": 2,
       "version_minor": 0
      },
      "text/plain": [
       "FloatProgress(value=0.0, bar_style='info', description='Progress:', layout=Layout(height='25px', width='50%'),…"
      ]
     },
     "metadata": {},
     "output_type": "display_data"
    }
   ],
   "source": [
    "# # Test one line into parse_csv() function\n",
    "# test_line = raw_csv1.take(1)\n",
    "# print(type(test_line))\n",
    "# parse_csv(test_line)"
   ]
  },
  {
   "cell_type": "code",
   "execution_count": null,
   "id": "cddf832f",
   "metadata": {},
   "outputs": [],
   "source": []
  },
  {
   "cell_type": "code",
   "execution_count": 20,
   "id": "61ee5b74",
   "metadata": {},
   "outputs": [
    {
     "data": {
      "application/vnd.jupyter.widget-view+json": {
       "model_id": "7ebfd4bc786849869abe4042e6f9b8be",
       "version_major": 2,
       "version_minor": 0
      },
      "text/plain": [
       "VBox()"
      ]
     },
     "metadata": {},
     "output_type": "display_data"
    },
    {
     "data": {
      "application/vnd.jupyter.widget-view+json": {
       "model_id": "",
       "version_major": 2,
       "version_minor": 0
      },
      "text/plain": [
       "FloatProgress(value=0.0, bar_style='info', description='Progress:', layout=Layout(height='25px', width='50%'),…"
      ]
     },
     "metadata": {},
     "output_type": "display_data"
    },
    {
     "name": "stdout",
     "output_type": "stream",
     "text": [
      "DataFrame[trade_dt: string, arrival_tm: string, rec_type: string, symbol: string, event_tm: string, event_seq_nb: int, trade_pr: string, bid_pr: decimal(10,0), bid_size: int, ask_pr: decimal(10,0), ask_size: int, partition: string]"
     ]
    }
   ],
   "source": [
    "spark_csv_df1 = spark.createDataFrame(parsed_csv1, common_event_schema)\n",
    "spark_csv_df1"
   ]
  },
  {
   "cell_type": "code",
   "execution_count": 26,
   "id": "446a0a30",
   "metadata": {},
   "outputs": [
    {
     "data": {
      "application/vnd.jupyter.widget-view+json": {
       "model_id": "6fc7418b078c459bb36319d82ee69e3e",
       "version_major": 2,
       "version_minor": 0
      },
      "text/plain": [
       "VBox()"
      ]
     },
     "metadata": {},
     "output_type": "display_data"
    },
    {
     "data": {
      "application/vnd.jupyter.widget-view+json": {
       "model_id": "",
       "version_major": 2,
       "version_minor": 0
      },
      "text/plain": [
       "FloatProgress(value=0.0, bar_style='info', description='Progress:', layout=Layout(height='25px', width='50%'),…"
      ]
     },
     "metadata": {},
     "output_type": "display_data"
    },
    {
     "name": "stdout",
     "output_type": "stream",
     "text": [
      "[Row(trade_dt='2020-08-06', arrival_tm='2020-08-06 09:30:00.0', rec_type='Q', symbol='SYMA', event_tm='2020-08-06 09:39:01.293', event_seq_nb=1, trade_pr='NYSE', bid_pr=Decimal('78'), bid_size=100, ask_pr=Decimal('78'), ask_size=100, partition='Q'), Row(trade_dt='2020-08-06', arrival_tm='2020-08-06 09:30:00.0', rec_type='Q', symbol='SYMA', event_tm='2020-08-06 09:47:20.398', event_seq_nb=2, trade_pr='NYSE', bid_pr=Decimal('77'), bid_size=100, ask_pr=Decimal('77'), ask_size=100, partition='Q'), Row(trade_dt='2020-08-06', arrival_tm='2020-08-06 09:30:00.0', rec_type='Q', symbol='SYMA', event_tm='2020-08-06 09:56:26.402', event_seq_nb=3, trade_pr='NYSE', bid_pr=Decimal('75'), bid_size=100, ask_pr=Decimal('75'), ask_size=100, partition='Q'), Row(trade_dt='2020-08-06', arrival_tm='2020-08-06 09:30:00.0', rec_type='Q', symbol='SYMA', event_tm='2020-08-06 10:03:59.522', event_seq_nb=4, trade_pr='NYSE', bid_pr=Decimal('75'), bid_size=100, ask_pr=Decimal('76'), ask_size=100, partition='Q'), Row(trade_dt='2020-08-06', arrival_tm='2020-08-06 09:30:00.0', rec_type='Q', symbol='SYMA', event_tm='2020-08-06 10:09:53.165', event_seq_nb=5, trade_pr='NYSE', bid_pr=Decimal('78'), bid_size=100, ask_pr=Decimal('79'), ask_size=100, partition='Q')]"
     ]
    }
   ],
   "source": [
    "spark_csv_df1.take(5)"
   ]
  },
  {
   "cell_type": "code",
   "execution_count": 13,
   "id": "fb8d8fa2",
   "metadata": {},
   "outputs": [
    {
     "data": {
      "application/vnd.jupyter.widget-view+json": {
       "model_id": "15f56bf0aa474f4099430850f3f1ea99",
       "version_major": 2,
       "version_minor": 0
      },
      "text/plain": [
       "VBox()"
      ]
     },
     "metadata": {},
     "output_type": "display_data"
    },
    {
     "data": {
      "application/vnd.jupyter.widget-view+json": {
       "model_id": "",
       "version_major": 2,
       "version_minor": 0
      },
      "text/plain": [
       "FloatProgress(value=0.0, bar_style='info', description='Progress:', layout=Layout(height='25px', width='50%'),…"
      ]
     },
     "metadata": {},
     "output_type": "display_data"
    },
    {
     "name": "stdout",
     "output_type": "stream",
     "text": [
      "+----------+--------------------+--------+------+--------------------+------------+--------+------+--------+------+--------+---------+\n",
      "|  trade_dt|          arrival_tm|rec_type|symbol|            event_tm|event_seq_nb|trade_pr|bid_pr|bid_size|ask_pr|ask_size|partition|\n",
      "+----------+--------------------+--------+------+--------------------+------------+--------+------+--------+------+--------+---------+\n",
      "|2020-08-06|2020-08-06 09:30:...|       Q|  SYMA|2020-08-06 09:39:...|           1|    NYSE|    78|     100|    78|     100|        Q|\n",
      "|2020-08-06|2020-08-06 09:30:...|       Q|  SYMA|2020-08-06 09:47:...|           2|    NYSE|    77|     100|    77|     100|        Q|\n",
      "|2020-08-06|2020-08-06 09:30:...|       Q|  SYMA|2020-08-06 09:56:...|           3|    NYSE|    75|     100|    75|     100|        Q|\n",
      "+----------+--------------------+--------+------+--------------------+------------+--------+------+--------+------+--------+---------+"
     ]
    }
   ],
   "source": [
    "spark_csv_df1.limit(3).show()"
   ]
  },
  {
   "cell_type": "code",
   "execution_count": 23,
   "id": "59880f80",
   "metadata": {},
   "outputs": [
    {
     "data": {
      "application/vnd.jupyter.widget-view+json": {
       "model_id": "1bbbe934a17c416aa621578e65848842",
       "version_major": 2,
       "version_minor": 0
      },
      "text/plain": [
       "VBox()"
      ]
     },
     "metadata": {},
     "output_type": "display_data"
    },
    {
     "data": {
      "application/vnd.jupyter.widget-view+json": {
       "model_id": "",
       "version_major": 2,
       "version_minor": 0
      },
      "text/plain": [
       "FloatProgress(value=0.0, bar_style='info', description='Progress:', layout=Layout(height='25px', width='50%'),…"
      ]
     },
     "metadata": {},
     "output_type": "display_data"
    }
   ],
   "source": [
    "# spark_csv_df1.repartition(3).where(\"partition == 'T'\").limit(5).show()"
   ]
  },
  {
   "cell_type": "code",
   "execution_count": 21,
   "id": "204eaa20",
   "metadata": {},
   "outputs": [
    {
     "data": {
      "application/vnd.jupyter.widget-view+json": {
       "model_id": "6280484e20e24c89861c9edcffb90ef5",
       "version_major": 2,
       "version_minor": 0
      },
      "text/plain": [
       "VBox()"
      ]
     },
     "metadata": {},
     "output_type": "display_data"
    },
    {
     "data": {
      "application/vnd.jupyter.widget-view+json": {
       "model_id": "",
       "version_major": 2,
       "version_minor": 0
      },
      "text/plain": [
       "FloatProgress(value=0.0, bar_style='info', description='Progress:', layout=Layout(height='25px', width='50%'),…"
      ]
     },
     "metadata": {},
     "output_type": "display_data"
    },
    {
     "name": "stdout",
     "output_type": "stream",
     "text": [
      "+---------+\n",
      "|partition|\n",
      "+---------+\n",
      "|        T|\n",
      "|        Q|\n",
      "+---------+"
     ]
    }
   ],
   "source": [
    "# Obtain distinct\n",
    "\n",
    "spark_csv_df1.select(\"partition\").distinct().show()"
   ]
  },
  {
   "cell_type": "code",
   "execution_count": 24,
   "id": "04a9be0d",
   "metadata": {},
   "outputs": [
    {
     "data": {
      "application/vnd.jupyter.widget-view+json": {
       "model_id": "93a4b1c0e742445a8adc765c31c07643",
       "version_major": 2,
       "version_minor": 0
      },
      "text/plain": [
       "VBox()"
      ]
     },
     "metadata": {},
     "output_type": "display_data"
    },
    {
     "data": {
      "application/vnd.jupyter.widget-view+json": {
       "model_id": "",
       "version_major": 2,
       "version_minor": 0
      },
      "text/plain": [
       "FloatProgress(value=0.0, bar_style='info', description='Progress:', layout=Layout(height='25px', width='50%'),…"
      ]
     },
     "metadata": {},
     "output_type": "display_data"
    }
   ],
   "source": [
    "# Test partitioning to create separate parquet files based on \"partition\" column\n",
    "\n",
    "spark_csv_df1.write.partitionBy('partition').mode('overwrite').parquet(ingest_csv_subfolder_1)"
   ]
  },
  {
   "cell_type": "code",
   "execution_count": 25,
   "id": "d491a330",
   "metadata": {},
   "outputs": [
    {
     "data": {
      "application/vnd.jupyter.widget-view+json": {
       "model_id": "cb25cb455d7f4370b48e562ccf205404",
       "version_major": 2,
       "version_minor": 0
      },
      "text/plain": [
       "VBox()"
      ]
     },
     "metadata": {},
     "output_type": "display_data"
    },
    {
     "data": {
      "application/vnd.jupyter.widget-view+json": {
       "model_id": "",
       "version_major": 2,
       "version_minor": 0
      },
      "text/plain": [
       "FloatProgress(value=0.0, bar_style='info', description='Progress:', layout=Layout(height='25px', width='50%'),…"
      ]
     },
     "metadata": {},
     "output_type": "display_data"
    }
   ],
   "source": [
    "# Repeat Prior steps to create more parquet files based on partitioned by \"partition\" column\n",
    "\n",
    "raw_csv2 = sc.textFile(\n",
    "    \"s3://guidedcapstonebucket2/e-KLOB2DYT8G9BGL5F8PJ9LXKJ/GCFiles/GC_CSV_Files/part-00000-5e4ced0a-66e2-442a-b020-347d0df4df8f-c000.txt\")\n",
    "parsed_csv2 = raw_csv2.map(lambda line: parse_csv(line))\n",
    "spark_csv_df2 = spark.createDataFrame(parsed_csv2, common_event_schema)\n",
    "\n",
    "spark_csv_df2.write.partitionBy('partition').mode('overwrite').parquet(ingest_csv_subfolder_2)"
   ]
  },
  {
   "cell_type": "code",
   "execution_count": 26,
   "id": "1b693112",
   "metadata": {},
   "outputs": [
    {
     "data": {
      "application/vnd.jupyter.widget-view+json": {
       "model_id": "138715a37d014a7fb03b164f9d00f3d2",
       "version_major": 2,
       "version_minor": 0
      },
      "text/plain": [
       "VBox()"
      ]
     },
     "metadata": {},
     "output_type": "display_data"
    },
    {
     "data": {
      "application/vnd.jupyter.widget-view+json": {
       "model_id": "",
       "version_major": 2,
       "version_minor": 0
      },
      "text/plain": [
       "FloatProgress(value=0.0, bar_style='info', description='Progress:', layout=Layout(height='25px', width='50%'),…"
      ]
     },
     "metadata": {},
     "output_type": "display_data"
    }
   ],
   "source": [
    "# # Try uploading to test path instead\n",
    "# test_path = \"s3://guidedcapstonebucket2/e-KLOB2DYT8G9BGL5F8PJ9LXKJ/Test_Path\"\n",
    "\n",
    "\n",
    "# spark_csv_df2.write.partitionBy('partition').mode('overwrite').parquet(test_path)"
   ]
  },
  {
   "cell_type": "code",
   "execution_count": 27,
   "id": "3302a3d1",
   "metadata": {},
   "outputs": [
    {
     "data": {
      "application/vnd.jupyter.widget-view+json": {
       "model_id": "640d8840d009493899e0449178131972",
       "version_major": 2,
       "version_minor": 0
      },
      "text/plain": [
       "VBox()"
      ]
     },
     "metadata": {},
     "output_type": "display_data"
    },
    {
     "data": {
      "application/vnd.jupyter.widget-view+json": {
       "model_id": "",
       "version_major": 2,
       "version_minor": 0
      },
      "text/plain": [
       "FloatProgress(value=0.0, bar_style='info', description='Progress:', layout=Layout(height='25px', width='50%'),…"
      ]
     },
     "metadata": {},
     "output_type": "display_data"
    }
   ],
   "source": [
    "# Use JSON Parser in Spark Transformation to Process the Source Data\n",
    "\n",
    "raw_json1 = sc.textFile(\n",
    "    \"s3://guidedcapstonebucket2/e-KLOB2DYT8G9BGL5F8PJ9LXKJ/GCFiles/GC_JSON_Files/part-00000-092ec1db-39ab-4079-9580-f7c7b516a283-c000.txt\")\n",
    "parsed_json1 = raw_json1.map(lambda line: parse_json(line))\n",
    "spark_json_df1 = spark.createDataFrame(parsed_json1, common_event_schema)\n",
    "spark_json_df1.write.partitionBy('partition').mode('overwrite').parquet(ingest_json_subfolder_1)"
   ]
  },
  {
   "cell_type": "code",
   "execution_count": 28,
   "id": "9736fc1c",
   "metadata": {},
   "outputs": [
    {
     "data": {
      "application/vnd.jupyter.widget-view+json": {
       "model_id": "4835be0afe1d46ec84c5e43a1a6beb1d",
       "version_major": 2,
       "version_minor": 0
      },
      "text/plain": [
       "VBox()"
      ]
     },
     "metadata": {},
     "output_type": "display_data"
    },
    {
     "data": {
      "application/vnd.jupyter.widget-view+json": {
       "model_id": "",
       "version_major": 2,
       "version_minor": 0
      },
      "text/plain": [
       "FloatProgress(value=0.0, bar_style='info', description='Progress:', layout=Layout(height='25px', width='50%'),…"
      ]
     },
     "metadata": {},
     "output_type": "display_data"
    }
   ],
   "source": [
    "raw_json2 = sc.textFile(\n",
    "    \"s3://guidedcapstonebucket2/e-KLOB2DYT8G9BGL5F8PJ9LXKJ/GCFiles/GC_JSON_Files/part-00000-c6c48831-3d45-4887-ba5f-82060885fc6c-c000.txt\")\n",
    "parsed_json2 = raw_json2.map(lambda line: parse_json(line))\n",
    "spark_json_df2 = spark.createDataFrame(parsed_json2, common_event_schema)\n",
    "# spark_json_df2.write.partitionBy('partition').mode('overwrite').parquet(ingested_json_path)"
   ]
  },
  {
   "cell_type": "code",
   "execution_count": 29,
   "id": "d28d128c",
   "metadata": {},
   "outputs": [
    {
     "data": {
      "application/vnd.jupyter.widget-view+json": {
       "model_id": "c6508f845c5c4e9bba7be26fd0316a63",
       "version_major": 2,
       "version_minor": 0
      },
      "text/plain": [
       "VBox()"
      ]
     },
     "metadata": {},
     "output_type": "display_data"
    },
    {
     "data": {
      "application/vnd.jupyter.widget-view+json": {
       "model_id": "",
       "version_major": 2,
       "version_minor": 0
      },
      "text/plain": [
       "FloatProgress(value=0.0, bar_style='info', description='Progress:', layout=Layout(height='25px', width='50%'),…"
      ]
     },
     "metadata": {},
     "output_type": "display_data"
    }
   ],
   "source": [
    "# Try uploading to test path instead\n",
    "\n",
    "spark_json_df2.write.partitionBy('partition').mode('overwrite').parquet(ingest_json_subfolder_2)"
   ]
  },
  {
   "cell_type": "markdown",
   "id": "5cfbf726",
   "metadata": {},
   "source": [
    "# Now, let us check S3 Bucket file folders."
   ]
  },
  {
   "cell_type": "code",
   "execution_count": null,
   "id": "7c8053ad",
   "metadata": {},
   "outputs": [],
   "source": []
  },
  {
   "cell_type": "code",
   "execution_count": null,
   "id": "01b5118e",
   "metadata": {},
   "outputs": [],
   "source": []
  }
 ],
 "metadata": {
  "kernelspec": {
   "display_name": "PySpark",
   "language": "",
   "name": "pysparkkernel"
  },
  "language_info": {
   "codemirror_mode": {
    "name": "python",
    "version": 3
   },
   "mimetype": "text/x-python",
   "name": "pyspark",
   "pygments_lexer": "python3"
  }
 },
 "nbformat": 4,
 "nbformat_minor": 5
}
